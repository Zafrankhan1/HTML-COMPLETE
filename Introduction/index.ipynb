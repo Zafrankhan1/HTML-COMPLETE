{
 "cells": [
  {
   "cell_type": "markdown",
   "metadata": {},
   "source": [
    "# HTML\n",
    "* It stands for Hyper Text MarkUp language\n",
    "\n",
    "* It shows how to create web pages\n",
    "\n",
    "* HTML consists of a series of elements\n",
    "\n",
    "* HTML elements tell the browser how to display the content"
   ]
  },
  {
   "cell_type": "markdown",
   "metadata": {},
   "source": [
    "# 1. Absolute URL\n",
    " - Links to an external image that is hosted on another website. Example: src=\"https://www.w3schools.com/images/img_girl.jpg\".\n",
    "\n",
    "Notes: External images might be under copyright. If you do not get permission to use it, you may be in violation of copyright laws. In addition, you cannot control external images; it can suddenly be removed or changed.\n",
    "\n",
    "# 2. Relative URL\n",
    " - Links to an image that is hosted within the website. Here, the URL does not include the domain name. If the URL begins without a slash, it will be relative to the current page. Example: src=\"img_girl.jpg\". If the URL begins with a slash, it will be relative to the domain. Example: src=\"/images/img_girl.jpg\".\n",
    "\n",
    "Tip: It is almost always best to use relative URLs. They will not break if you change domain."
   ]
  }
 ],
 "metadata": {
  "language_info": {
   "name": "python"
  }
 },
 "nbformat": 4,
 "nbformat_minor": 2
}
